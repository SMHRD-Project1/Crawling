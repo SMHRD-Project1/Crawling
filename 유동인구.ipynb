{
 "cells": [
  {
   "cell_type": "code",
   "execution_count": 2,
   "metadata": {},
   "outputs": [],
   "source": [
    "import re\n",
    "import time\n",
    "import pandas as pd\n",
    "import requests as req\n",
    "from bs4 import BeautifulSoup as bs\n",
    "from selenium import webdriver as wb\n",
    "from IPython.display import display, HTML\n",
    "from selenium.webdriver.common.by import By\n",
    "from pyproj import Proj, transform, Transformer\n",
    "from selenium.webdriver.common.keys import Keys \n",
    "from selenium.webdriver.chrome.service import Service\n",
    "from webdriver_manager.chrome import ChromeDriverManager\n",
    "from selenium.webdriver.common.action_chains import ActionChains"
   ]
  },
  {
   "cell_type": "code",
   "execution_count": 3,
   "metadata": {},
   "outputs": [],
   "source": [
    "url = \"https://m.nicebizmap.co.kr/analysis/analysisFree\""
   ]
  },
  {
   "cell_type": "code",
   "execution_count": 4,
   "metadata": {},
   "outputs": [],
   "source": [
    "s = Service(ChromeDriverManager().install())\n",
    "driver = wb.Chrome(service=s)\n",
    "driver.maximize_window()\n",
    "driver.get(url)"
   ]
  },
  {
   "cell_type": "code",
   "execution_count": 5,
   "metadata": {},
   "outputs": [],
   "source": [
    "button = driver.find_element(By.CSS_SELECTOR, \"div#pc_sheet01>div.overlay_scroll>div.pc_bdy>div.middle>ul>li>a\") # 검색\n",
    "button.click()"
   ]
  },
  {
   "cell_type": "code",
   "execution_count": 6,
   "metadata": {},
   "outputs": [],
   "source": [
    "button = driver.find_elements(By.CSS_SELECTOR, \"ul.loca_list.cb>li\") # 처음 화면에서 광주 검색\n",
    "for i in range(len(button)):\n",
    "    if button[i].text.find(\"광주광역시\") != -1:\n",
    "        button[i].click()\n",
    "        break"
   ]
  },
  {
   "cell_type": "code",
   "execution_count": 7,
   "metadata": {},
   "outputs": [],
   "source": [
    "button = driver.find_elements(By.CSS_SELECTOR, \"ul.loca_list.cb>li>a\") # 서구 검색\n",
    "for i in range(len(button)):\n",
    "    if button[i].text.find(\"서구\") != -1:\n",
    "        button[i].click()\n",
    "        break"
   ]
  },
  {
   "cell_type": "code",
   "execution_count": 8,
   "metadata": {},
   "outputs": [],
   "source": [
    "time.sleep(1)\n",
    "button = driver.find_elements(By.CSS_SELECTOR, \"ul.loca_list.cb>li>a\") # 동 선택\n",
    "for i in range(len(button)):\n",
    "    if button[i].text.find(\"광천동\") != -1:\n",
    "        button[i].click()\n",
    "        break"
   ]
  },
  {
   "cell_type": "code",
   "execution_count": 9,
   "metadata": {},
   "outputs": [],
   "source": [
    "button = driver.find_elements(By.CSS_SELECTOR, \"div.tab_box>ul.pd>li>a\") # 유동인구 탭으로 이동\n",
    "for i in range(len(button)):\n",
    "    if button[i].text.find(\"유동인구\") != -1:\n",
    "        button[i].click()\n",
    "        break"
   ]
  },
  {
   "cell_type": "code",
   "execution_count": 10,
   "metadata": {},
   "outputs": [],
   "source": [
    "time.sleep(60)\n",
    "button = driver.find_element(By.CSS_SELECTOR, \"a#handle03\") # 세부 항목 닫아서 많이 보이게 하기\n",
    "button.click()"
   ]
  },
  {
   "cell_type": "code",
   "execution_count": 11,
   "metadata": {},
   "outputs": [
    {
     "name": "stdout",
     "output_type": "stream",
     "text": [
      "찾은 div 개수: 3003\n",
      "(<selenium.webdriver.remote.webelement.WebElement (session=\"69c2b0e891d27d2aed16e673efbf411b\", element=\"f.998E6DA5C76C69DD700619CCC637A891.d.328001D8232DA7CDC36016BD5EC08C4E.e.567\")>, 0, 0)\n"
     ]
    }
   ],
   "source": [
    "pin = driver.find_elements(By.CSS_SELECTOR, \"div\") # 검색\n",
    "\n",
    "pins = []\n",
    "num1 = None\n",
    "num2 = None\n",
    "\n",
    "for div in pin:\n",
    "    title_attr = div.get_attribute(\"title\")\n",
    "    style_attr = div.get_attribute(\"style\")\n",
    "\n",
    "    if title_attr is not None and style_attr:\n",
    "        if \"position: absolute\" in style_attr and \\\n",
    "           \"overflow: visible\" in style_attr and \\\n",
    "           \"box-sizing: content-box !important\" in style_attr and \\\n",
    "           \"cursor: inherit\" in style_attr:\n",
    "            \n",
    "            if not num1 and not num2 : # num1, 2 데이터가 없으면 => 기준 데이터 만들기\n",
    "                num1 = int(re.search(r'\\d+', div.get_attribute(\"style\").split(\";\")[4]).group())\n",
    "                num2 = int(re.search(r'\\d+', div.get_attribute(\"style\").split(\";\")[5]).group())\n",
    "\n",
    "            \n",
    "            if num1 and num2 : # 데이터가 있으면 => 기준 데이터랑 px 계산\n",
    "                div_lft = num1 - int(re.search(r'\\d+', div.get_attribute(\"style\").split(\";\")[4]).group())\n",
    "                div_top = num2 - int(re.search(r'\\d+', div.get_attribute(\"style\").split(\";\")[5]).group())\n",
    "            else:\n",
    "                print(\"예상하지 못한 변수... 씨ㅂㅏㄹ\")\n",
    "            \n",
    "            pins.append((div, div_lft, div_top)) ##### 여기서 left top 값도 가져오기\n",
    "\n",
    "print(f\"찾은 div 개수: {len(pins)}\")\n",
    "print(pins[0])"
   ]
  },
  {
   "cell_type": "code",
   "execution_count": 12,
   "metadata": {},
   "outputs": [
    {
     "name": "stdout",
     "output_type": "stream",
     "text": [
      "<div title=\"\" style=\"position: absolute; overflow: visible; box-sizing: content-box !important; cursor: inherit; left: 956px; top: 522px;\"><img src=\"/assets/bizmap/images/icons/popul1_tag.svg\" style=\"width: 21px; height: 22px; cursor: pointer;\" alt=\"광주광역시 서구 광천동 1등급 마커\"></div>\n"
     ]
    }
   ],
   "source": [
    "print(pins[0][0].get_attribute(\"outerHTML\"))\n",
    "# print(pins[0])"
   ]
  },
  {
   "cell_type": "code",
   "execution_count": 13,
   "metadata": {},
   "outputs": [
    {
     "name": "stdout",
     "output_type": "stream",
     "text": [
      "300m\n"
     ]
    }
   ],
   "source": [
    "legend = driver.find_elements(By.CSS_SELECTOR, \"span\") # 검색\n",
    "for i in range(len(legend)):\n",
    "    if legend[i].text.find(\"m\") != -1:\n",
    "        print(legend[i].text)\n",
    "        m = int(re.search(r'\\d+', legend[i].text).group())\n",
    "        px = legend[i].size['width']\n",
    "# meter_per_px = m / px  "
   ]
  },
  {
   "cell_type": "code",
   "execution_count": 14,
   "metadata": {},
   "outputs": [
    {
     "data": {
      "text/html": [
       "<div>\n",
       "<style scoped>\n",
       "    .dataframe tbody tr th:only-of-type {\n",
       "        vertical-align: middle;\n",
       "    }\n",
       "\n",
       "    .dataframe tbody tr th {\n",
       "        vertical-align: top;\n",
       "    }\n",
       "\n",
       "    .dataframe thead th {\n",
       "        text-align: right;\n",
       "    }\n",
       "</style>\n",
       "<table border=\"1\" class=\"dataframe\">\n",
       "  <thead>\n",
       "    <tr style=\"text-align: right;\">\n",
       "      <th></th>\n",
       "      <th>경도</th>\n",
       "      <th>위도</th>\n",
       "    </tr>\n",
       "  </thead>\n",
       "  <tbody>\n",
       "    <tr>\n",
       "      <th>0</th>\n",
       "      <td>126.879325</td>\n",
       "      <td>35.161890</td>\n",
       "    </tr>\n",
       "    <tr>\n",
       "      <th>1</th>\n",
       "      <td>126.878727</td>\n",
       "      <td>35.161844</td>\n",
       "    </tr>\n",
       "    <tr>\n",
       "      <th>2</th>\n",
       "      <td>126.879283</td>\n",
       "      <td>35.161854</td>\n",
       "    </tr>\n",
       "    <tr>\n",
       "      <th>3</th>\n",
       "      <td>126.879323</td>\n",
       "      <td>35.161960</td>\n",
       "    </tr>\n",
       "    <tr>\n",
       "      <th>4</th>\n",
       "      <td>126.879155</td>\n",
       "      <td>35.161852</td>\n",
       "    </tr>\n",
       "    <tr>\n",
       "      <th>...</th>\n",
       "      <td>...</td>\n",
       "      <td>...</td>\n",
       "    </tr>\n",
       "    <tr>\n",
       "      <th>2998</th>\n",
       "      <td>126.875375</td>\n",
       "      <td>35.167405</td>\n",
       "    </tr>\n",
       "    <tr>\n",
       "      <th>2999</th>\n",
       "      <td>126.876348</td>\n",
       "      <td>35.167809</td>\n",
       "    </tr>\n",
       "    <tr>\n",
       "      <th>3000</th>\n",
       "      <td>126.873846</td>\n",
       "      <td>35.166992</td>\n",
       "    </tr>\n",
       "    <tr>\n",
       "      <th>3001</th>\n",
       "      <td>126.875707</td>\n",
       "      <td>35.167797</td>\n",
       "    </tr>\n",
       "    <tr>\n",
       "      <th>3002</th>\n",
       "      <td>126.876000</td>\n",
       "      <td>35.168048</td>\n",
       "    </tr>\n",
       "  </tbody>\n",
       "</table>\n",
       "<p>3003 rows × 2 columns</p>\n",
       "</div>"
      ],
      "text/plain": [
       "              경도         위도\n",
       "0     126.879325  35.161890\n",
       "1     126.878727  35.161844\n",
       "2     126.879283  35.161854\n",
       "3     126.879323  35.161960\n",
       "4     126.879155  35.161852\n",
       "...          ...        ...\n",
       "2998  126.875375  35.167405\n",
       "2999  126.876348  35.167809\n",
       "3000  126.873846  35.166992\n",
       "3001  126.875707  35.167797\n",
       "3002  126.876000  35.168048\n",
       "\n",
       "[3003 rows x 2 columns]"
      ]
     },
     "execution_count": 14,
     "metadata": {},
     "output_type": "execute_result"
    }
   ],
   "source": [
    "# 기준 좌표 (0,0 픽셀 위치)\n",
    "origin_x = 306851.822\n",
    "origin_y = 3893055.319\n",
    "\n",
    "# 픽셀당 실제 거리 (m)\n",
    "meter_per_px = m / px  # 예: 50 / 100 = 0.5\n",
    "\n",
    "# UTM 좌표 변환을 위한 설정 (52N 지역)\n",
    "zone_number = 52\n",
    "northern = True  # 북반구 여부\n",
    "\n",
    "utm_proj = Proj(proj='utm', zone=zone_number, ellps='WGS84', south=not northern)\n",
    "wgs84_proj = Proj(proj='latlong', datum='WGS84')\n",
    "transformer = Transformer.from_proj(utm_proj, wgs84_proj, always_xy=True)\n",
    "\n",
    "# UTM 좌표 변환 및 저장\n",
    "utm_coords = []\n",
    "for pin in pins:\n",
    "    dx, dy = pin[1], pin[2]\n",
    "    utm_x = origin_x - dx * meter_per_px  # X축 반전\n",
    "    utm_y = origin_y + dy * meter_per_px  # Y축 반전\n",
    "    lon, lat = transformer.transform(utm_x, utm_y)\n",
    "    utm_coords.append((lon, lat))\n",
    "\n",
    "\n",
    "# DataFrame 생성 (위도, 경도만 저장)\n",
    "df = pd.DataFrame(utm_coords, columns=['경도', '위도'])\n",
    "\n",
    "# CSV 저장\n",
    "df.to_csv(\"test.csv\", encoding='utf-8-sig', index=False, header=False)\n",
    "\n",
    "# 결과 출력\n",
    "df\n"
   ]
  },
  {
   "cell_type": "code",
   "execution_count": null,
   "metadata": {},
   "outputs": [],
   "source": []
  }
 ],
 "metadata": {
  "kernelspec": {
   "display_name": "base",
   "language": "python",
   "name": "python3"
  },
  "language_info": {
   "codemirror_mode": {
    "name": "ipython",
    "version": 3
   },
   "file_extension": ".py",
   "mimetype": "text/x-python",
   "name": "python",
   "nbconvert_exporter": "python",
   "pygments_lexer": "ipython3",
   "version": "3.12.7"
  }
 },
 "nbformat": 4,
 "nbformat_minor": 2
}
